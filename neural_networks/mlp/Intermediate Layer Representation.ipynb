{
  "nbformat": 4,
  "nbformat_minor": 0,
  "metadata": {
    "colab": {
      "provenance": []
    },
    "kernelspec": {
      "name": "python3",
      "display_name": "Python 3"
    },
    "language_info": {
      "name": "python"
    }
  },
  "cells": [
    {
      "cell_type": "code",
      "source": [
        "import numpy as np\n",
        "import torch\n",
        "import torch.nn as nn\n",
        "import torch.nn.functional as F\n",
        "from torch.utils.data import DataLoader\n",
        "from torchvision import datasets, transforms\n",
        "from sklearn.linear_model import LogisticRegression\n",
        "from sklearn.metrics import accuracy_score"
      ],
      "metadata": {
        "id": "JA9cdBYb9Ope"
      },
      "execution_count": 1,
      "outputs": []
    },
    {
      "cell_type": "code",
      "source": [
        "class MLP(nn.Module):\n",
        "    def __init__(self):\n",
        "        super(MLP, self).__init__()\n",
        "        self.layer1 = nn.Linear(784, 33)\n",
        "        self.layer2 = nn.Linear(33, 33)\n",
        "        self.layer3 = nn.Linear(33, 33)\n",
        "        self.output = nn.Linear(33, 10)\n",
        "\n",
        "    def forward(self, x):\n",
        "        x = x.view(-1, 28 * 28)\n",
        "        x = x.view(-1, 784)\n",
        "        x = F.relu(self.layer1(x))\n",
        "        x = F.relu(self.layer2(x))\n",
        "        x = F.relu(self.layer3(x))\n",
        "        x = self.output(x)\n",
        "        return x\n",
        "\n",
        "    def get_intermediate_layers(self, x):\n",
        "        outputs = []\n",
        "        x = x.view(-1, 28 * 28)\n",
        "        x = F.relu(self.layer1(x))\n",
        "        outputs.append(x.detach())\n",
        "        x = F.relu(self.layer2(x))\n",
        "        outputs.append(x.detach())\n",
        "        x = F.relu(self.layer3(x))\n",
        "        outputs.append(x.detach())\n",
        "        return outputs\n",
        "\n",
        "# Function to load MNIST dataset\n",
        "def load_mnist(batch_size=200):\n",
        "    transform = transforms.Compose([\n",
        "        transforms.ToTensor(),\n",
        "        transforms.Normalize((0.5,), (1.0,))\n",
        "    ])\n",
        "\n",
        "    train_dataset = datasets.MNIST(root='./data', train=True, transform=transform, download=True)\n",
        "    test_dataset = datasets.MNIST(root='./data', train=False, transform=transform, download=True)\n",
        "\n",
        "    train_loader = DataLoader(dataset=train_dataset, batch_size=batch_size, shuffle=True)\n",
        "    test_loader = DataLoader(dataset=test_dataset, batch_size=batch_size, shuffle=False)\n",
        "\n",
        "    return train_loader, test_loader\n",
        "\n",
        "# Set parameters\n",
        "batch_size = 200\n",
        "learning_rate = 0.1\n",
        "epochs = 10\n",
        "\n",
        "# Load MNIST dataset\n",
        "train_loader, test_loader = load_mnist(batch_size)\n",
        "\n",
        "# Initialize and train the MLP\n",
        "model = MLP()\n",
        "criterion = nn.CrossEntropyLoss()\n",
        "optimizer = torch.optim.SGD(model.parameters(), lr=learning_rate)\n",
        "\n",
        "for epoch in range(epochs):\n",
        "    model.train()\n",
        "\n",
        "    for i, (images, labels) in enumerate(train_loader):\n",
        "        optimizer.zero_grad()\n",
        "        outputs = model(images)\n",
        "        loss = criterion(outputs, labels)\n",
        "        loss.backward()\n",
        "        optimizer.step()"
      ],
      "metadata": {
        "id": "lIjDzjwySUz3",
        "colab": {
          "base_uri": "https://localhost:8080/"
        },
        "outputId": "069170c0-c045-456b-9c15-7d60ac8f3d92"
      },
      "execution_count": 2,
      "outputs": [
        {
          "output_type": "stream",
          "name": "stdout",
          "text": [
            "Downloading http://yann.lecun.com/exdb/mnist/train-images-idx3-ubyte.gz\n",
            "Downloading http://yann.lecun.com/exdb/mnist/train-images-idx3-ubyte.gz to ./data/MNIST/raw/train-images-idx3-ubyte.gz\n"
          ]
        },
        {
          "output_type": "stream",
          "name": "stderr",
          "text": [
            "100%|██████████| 9912422/9912422 [00:00<00:00, 63098666.33it/s]\n"
          ]
        },
        {
          "output_type": "stream",
          "name": "stdout",
          "text": [
            "Extracting ./data/MNIST/raw/train-images-idx3-ubyte.gz to ./data/MNIST/raw\n",
            "\n",
            "Downloading http://yann.lecun.com/exdb/mnist/train-labels-idx1-ubyte.gz\n",
            "Downloading http://yann.lecun.com/exdb/mnist/train-labels-idx1-ubyte.gz to ./data/MNIST/raw/train-labels-idx1-ubyte.gz\n"
          ]
        },
        {
          "output_type": "stream",
          "name": "stderr",
          "text": [
            "100%|██████████| 28881/28881 [00:00<00:00, 15482578.45it/s]"
          ]
        },
        {
          "output_type": "stream",
          "name": "stdout",
          "text": [
            "Extracting ./data/MNIST/raw/train-labels-idx1-ubyte.gz to ./data/MNIST/raw\n",
            "\n",
            "Downloading http://yann.lecun.com/exdb/mnist/t10k-images-idx3-ubyte.gz\n",
            "Downloading http://yann.lecun.com/exdb/mnist/t10k-images-idx3-ubyte.gz to ./data/MNIST/raw/t10k-images-idx3-ubyte.gz\n"
          ]
        },
        {
          "output_type": "stream",
          "name": "stderr",
          "text": [
            "\n",
            "100%|██████████| 1648877/1648877 [00:00<00:00, 18022242.54it/s]\n"
          ]
        },
        {
          "output_type": "stream",
          "name": "stdout",
          "text": [
            "Extracting ./data/MNIST/raw/t10k-images-idx3-ubyte.gz to ./data/MNIST/raw\n",
            "\n",
            "Downloading http://yann.lecun.com/exdb/mnist/t10k-labels-idx1-ubyte.gz\n",
            "Downloading http://yann.lecun.com/exdb/mnist/t10k-labels-idx1-ubyte.gz to ./data/MNIST/raw/t10k-labels-idx1-ubyte.gz\n"
          ]
        },
        {
          "output_type": "stream",
          "name": "stderr",
          "text": [
            "100%|██████████| 4542/4542 [00:00<00:00, 14756412.68it/s]\n"
          ]
        },
        {
          "output_type": "stream",
          "name": "stdout",
          "text": [
            "Extracting ./data/MNIST/raw/t10k-labels-idx1-ubyte.gz to ./data/MNIST/raw\n",
            "\n"
          ]
        }
      ]
    },
    {
      "cell_type": "code",
      "source": [
        "def extract_features(loader, model):\n",
        "    features = [[] for _ in range(3)]  # Three sets for three layers\n",
        "    labels = []\n",
        "    with torch.no_grad():\n",
        "        for data, target in loader:\n",
        "            intermediate_outputs = model.get_intermediate_layers(data)\n",
        "            for i, output in enumerate(intermediate_outputs):\n",
        "                features[i].extend(output.numpy())\n",
        "            labels.extend(target.numpy())\n",
        "    return features, labels\n",
        "\n",
        "train_features, train_labels = extract_features(train_loader, model)\n",
        "test_features, test_labels = extract_features(test_loader, model)"
      ],
      "metadata": {
        "id": "Y94j6aHV8tFy"
      },
      "execution_count": 3,
      "outputs": []
    },
    {
      "cell_type": "code",
      "source": [
        "# Logistic regression on intermediate features\n",
        "for i in range(3):\n",
        "    # Fit the model\n",
        "    lr = LogisticRegression(max_iter=1000)\n",
        "    lr.fit(train_features[i], train_labels)\n",
        "\n",
        "    # Accuracies\n",
        "    train_acc = accuracy_score(train_labels, lr.predict(train_features[i]))\n",
        "    test_acc = accuracy_score(test_labels, lr.predict(test_features[i]))\n",
        "\n",
        "    print(f\"Logistic Regression on Features from Intermediate Layer {i+1} - Train Accuracy: {train_acc:.4f} - Test Accuracy: {test_acc:.4f}\")"
      ],
      "metadata": {
        "colab": {
          "base_uri": "https://localhost:8080/"
        },
        "id": "FhoKeNejAb23",
        "outputId": "f264f69e-abbd-404c-f20f-49bccda84c1c"
      },
      "execution_count": 25,
      "outputs": [
        {
          "output_type": "stream",
          "name": "stdout",
          "text": [
            "Logistic Regression on Features from Intermediate Layer 1 - Train Accuracy: 0.9606 - Test Accuracy: 0.9555\n",
            "Logistic Regression on Features from Intermediate Layer 2 - Train Accuracy: 0.9666 - Test Accuracy: 0.9583\n",
            "Logistic Regression on Features from Intermediate Layer 3 - Train Accuracy: 0.9668 - Test Accuracy: 0.9596\n"
          ]
        }
      ]
    },
    {
      "cell_type": "code",
      "source": [
        "# Logistic regression on original features\n",
        "transform = transforms.Compose([\n",
        "    transforms.ToTensor(),\n",
        "    transforms.Normalize((0.5,), (1.0,))\n",
        "])\n",
        "\n",
        "train_dataset = datasets.MNIST(root='./data', train=True, transform=transform, download=True)\n",
        "test_dataset = datasets.MNIST(root='./data', train=False, transform=transform, download=True)\n",
        "\n",
        "original_train_features = train_dataset.data.view(len(train_dataset), -1).numpy()\n",
        "original_test_features = test_dataset.data.view(len(test_dataset), -1).numpy()\n",
        "original_train_labels = train_dataset.targets.numpy()\n",
        "original_test_labels = test_dataset.targets.numpy()\n",
        "\n",
        "original_lr = LogisticRegression(max_iter=1000)\n",
        "original_lr.fit(original_train_features, original_train_labels)\n",
        "\n",
        "original_train_acc = accuracy_score(original_train_labels, original_lr.predict(original_train_features))\n",
        "original_test_acc = accuracy_score(original_test_labels, original_lr.predict(original_test_features))\n",
        "\n",
        "print(f\"Logistic Regression on Original Features - Train Accuracy: {original_train_acc:.4f} - Test Accuracy: {original_test_acc:.4f}\")"
      ],
      "metadata": {
        "colab": {
          "base_uri": "https://localhost:8080/"
        },
        "id": "WfeqeR4jBWjy",
        "outputId": "4d8be7f3-ae0d-4a64-ee0a-c3699eb9ac42"
      },
      "execution_count": 26,
      "outputs": [
        {
          "output_type": "stream",
          "name": "stdout",
          "text": [
            "Logistic Regression on Original Features - Train Accuracy: 0.9416 - Test Accuracy: 0.9203\n"
          ]
        }
      ]
    }
  ]
}